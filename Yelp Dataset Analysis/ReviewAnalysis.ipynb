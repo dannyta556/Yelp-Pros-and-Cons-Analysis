{
 "cells": [
  {
   "cell_type": "code",
   "execution_count": 5,
   "metadata": {},
   "outputs": [],
   "source": [
    "import pandas as pd\n",
    "from sklearn.model_selection import train_test_split"
   ]
  },
  {
   "cell_type": "code",
   "execution_count": 6,
   "metadata": {},
   "outputs": [],
   "source": [
    "path = 'C:/Users/DTLSW/Desktop/Yelp Dataset/yelp_academic_dataset_review.json'\n",
    "reviews = pd.read_json(path, lines=True, chunksize=10000)"
   ]
  },
  {
   "cell_type": "code",
   "execution_count": 7,
   "metadata": {},
   "outputs": [],
   "source": [
    "for r in reviews:\n",
    "    subset = r\n",
    "    break\n"
   ]
  },
  {
   "cell_type": "code",
   "execution_count": 8,
   "metadata": {},
   "outputs": [
    {
     "data": {
      "text/plain": [
       "(10000, 9)"
      ]
     },
     "execution_count": 8,
     "metadata": {},
     "output_type": "execute_result"
    }
   ],
   "source": [
    "subset.shape"
   ]
  },
  {
   "cell_type": "code",
   "execution_count": 9,
   "metadata": {},
   "outputs": [
    {
     "data": {
      "text/plain": [
       "review_id              object\n",
       "user_id                object\n",
       "business_id            object\n",
       "stars                   int64\n",
       "useful                  int64\n",
       "funny                   int64\n",
       "cool                    int64\n",
       "text                   object\n",
       "date           datetime64[ns]\n",
       "dtype: object"
      ]
     },
     "execution_count": 9,
     "metadata": {},
     "output_type": "execute_result"
    }
   ],
   "source": [
    "subset.dtypes"
   ]
  },
  {
   "cell_type": "code",
   "execution_count": 10,
   "metadata": {},
   "outputs": [
    {
     "data": {
      "text/html": [
       "<div>\n",
       "<style scoped>\n",
       "    .dataframe tbody tr th:only-of-type {\n",
       "        vertical-align: middle;\n",
       "    }\n",
       "\n",
       "    .dataframe tbody tr th {\n",
       "        vertical-align: top;\n",
       "    }\n",
       "\n",
       "    .dataframe thead th {\n",
       "        text-align: right;\n",
       "    }\n",
       "</style>\n",
       "<table border=\"1\" class=\"dataframe\">\n",
       "  <thead>\n",
       "    <tr style=\"text-align: right;\">\n",
       "      <th></th>\n",
       "      <th>review_id</th>\n",
       "      <th>user_id</th>\n",
       "      <th>business_id</th>\n",
       "      <th>stars</th>\n",
       "      <th>useful</th>\n",
       "      <th>funny</th>\n",
       "      <th>cool</th>\n",
       "      <th>text</th>\n",
       "      <th>date</th>\n",
       "    </tr>\n",
       "  </thead>\n",
       "  <tbody>\n",
       "    <tr>\n",
       "      <th>0</th>\n",
       "      <td>KU_O5udG6zpxOg-VcAEodg</td>\n",
       "      <td>mh_-eMZ6K5RLWhZyISBhwA</td>\n",
       "      <td>XQfwVwDr-v0ZS3_CbbE5Xw</td>\n",
       "      <td>3</td>\n",
       "      <td>0</td>\n",
       "      <td>0</td>\n",
       "      <td>0</td>\n",
       "      <td>If you decide to eat here, just be aware it is...</td>\n",
       "      <td>2018-07-07 22:09:11</td>\n",
       "    </tr>\n",
       "    <tr>\n",
       "      <th>1</th>\n",
       "      <td>BiTunyQ73aT9WBnpR9DZGw</td>\n",
       "      <td>OyoGAe7OKpv6SyGZT5g77Q</td>\n",
       "      <td>7ATYjTIgM3jUlt4UM3IypQ</td>\n",
       "      <td>5</td>\n",
       "      <td>1</td>\n",
       "      <td>0</td>\n",
       "      <td>1</td>\n",
       "      <td>I've taken a lot of spin classes over the year...</td>\n",
       "      <td>2012-01-03 15:28:18</td>\n",
       "    </tr>\n",
       "    <tr>\n",
       "      <th>2</th>\n",
       "      <td>saUsX_uimxRlCVr67Z4Jig</td>\n",
       "      <td>8g_iMtfSiwikVnbP2etR0A</td>\n",
       "      <td>YjUWPpI6HXG530lwP-fb2A</td>\n",
       "      <td>3</td>\n",
       "      <td>0</td>\n",
       "      <td>0</td>\n",
       "      <td>0</td>\n",
       "      <td>Family diner. Had the buffet. Eclectic assortm...</td>\n",
       "      <td>2014-02-05 20:30:30</td>\n",
       "    </tr>\n",
       "    <tr>\n",
       "      <th>3</th>\n",
       "      <td>AqPFMleE6RsU23_auESxiA</td>\n",
       "      <td>_7bHUi9Uuf5__HHc_Q8guQ</td>\n",
       "      <td>kxX2SOes4o-D3ZQBkiMRfA</td>\n",
       "      <td>5</td>\n",
       "      <td>1</td>\n",
       "      <td>0</td>\n",
       "      <td>1</td>\n",
       "      <td>Wow!  Yummy, different,  delicious.   Our favo...</td>\n",
       "      <td>2015-01-04 00:01:03</td>\n",
       "    </tr>\n",
       "    <tr>\n",
       "      <th>4</th>\n",
       "      <td>Sx8TMOWLNuJBWer-0pcmoA</td>\n",
       "      <td>bcjbaE6dDog4jkNY91ncLQ</td>\n",
       "      <td>e4Vwtrqf-wpJfwesgvdgxQ</td>\n",
       "      <td>4</td>\n",
       "      <td>1</td>\n",
       "      <td>0</td>\n",
       "      <td>1</td>\n",
       "      <td>Cute interior and owner (?) gave us tour of up...</td>\n",
       "      <td>2017-01-14 20:54:15</td>\n",
       "    </tr>\n",
       "    <tr>\n",
       "      <th>5</th>\n",
       "      <td>JrIxlS1TzJ-iCu79ul40cQ</td>\n",
       "      <td>eUta8W_HdHMXPzLBBZhL1A</td>\n",
       "      <td>04UD14gamNjLY0IDYVhHJg</td>\n",
       "      <td>1</td>\n",
       "      <td>1</td>\n",
       "      <td>2</td>\n",
       "      <td>1</td>\n",
       "      <td>I am a long term frequent customer of this est...</td>\n",
       "      <td>2015-09-23 23:10:31</td>\n",
       "    </tr>\n",
       "    <tr>\n",
       "      <th>6</th>\n",
       "      <td>6AxgBCNX_PNTOxmbRSwcKQ</td>\n",
       "      <td>r3zeYsv1XFBRA4dJpL78cw</td>\n",
       "      <td>gmjsEdUsKpj9Xxu6pdjH0g</td>\n",
       "      <td>5</td>\n",
       "      <td>0</td>\n",
       "      <td>2</td>\n",
       "      <td>0</td>\n",
       "      <td>Loved this tour! I grabbed a groupon and the p...</td>\n",
       "      <td>2015-01-03 23:21:18</td>\n",
       "    </tr>\n",
       "    <tr>\n",
       "      <th>7</th>\n",
       "      <td>_ZeMknuYdlQcUqng_Im3yg</td>\n",
       "      <td>yfFzsLmaWF2d4Sr0UNbBgg</td>\n",
       "      <td>LHSTtnW3YHCeUkRDGyJOyw</td>\n",
       "      <td>5</td>\n",
       "      <td>2</td>\n",
       "      <td>0</td>\n",
       "      <td>0</td>\n",
       "      <td>Amazingly amazing wings and homemade bleu chee...</td>\n",
       "      <td>2015-08-07 02:29:16</td>\n",
       "    </tr>\n",
       "    <tr>\n",
       "      <th>8</th>\n",
       "      <td>ZKvDG2sBvHVdF5oBNUOpAQ</td>\n",
       "      <td>wSTuiTk-sKNdcFyprzZAjg</td>\n",
       "      <td>B5XSoSG3SfvQGtKEGQ1tSQ</td>\n",
       "      <td>3</td>\n",
       "      <td>1</td>\n",
       "      <td>1</td>\n",
       "      <td>0</td>\n",
       "      <td>This easter instead of going to Lopez Lake we ...</td>\n",
       "      <td>2016-03-30 22:46:33</td>\n",
       "    </tr>\n",
       "    <tr>\n",
       "      <th>9</th>\n",
       "      <td>pUycOfUwM8vqX7KjRRhUEA</td>\n",
       "      <td>59MxRhNVhU9MYndMkz0wtw</td>\n",
       "      <td>gebiRewfieSdtt17PTW6Zg</td>\n",
       "      <td>3</td>\n",
       "      <td>0</td>\n",
       "      <td>0</td>\n",
       "      <td>0</td>\n",
       "      <td>Had a party of 6 here for hibachi. Our waitres...</td>\n",
       "      <td>2016-07-25 07:31:06</td>\n",
       "    </tr>\n",
       "  </tbody>\n",
       "</table>\n",
       "</div>"
      ],
      "text/plain": [
       "                review_id                 user_id             business_id  \\\n",
       "0  KU_O5udG6zpxOg-VcAEodg  mh_-eMZ6K5RLWhZyISBhwA  XQfwVwDr-v0ZS3_CbbE5Xw   \n",
       "1  BiTunyQ73aT9WBnpR9DZGw  OyoGAe7OKpv6SyGZT5g77Q  7ATYjTIgM3jUlt4UM3IypQ   \n",
       "2  saUsX_uimxRlCVr67Z4Jig  8g_iMtfSiwikVnbP2etR0A  YjUWPpI6HXG530lwP-fb2A   \n",
       "3  AqPFMleE6RsU23_auESxiA  _7bHUi9Uuf5__HHc_Q8guQ  kxX2SOes4o-D3ZQBkiMRfA   \n",
       "4  Sx8TMOWLNuJBWer-0pcmoA  bcjbaE6dDog4jkNY91ncLQ  e4Vwtrqf-wpJfwesgvdgxQ   \n",
       "5  JrIxlS1TzJ-iCu79ul40cQ  eUta8W_HdHMXPzLBBZhL1A  04UD14gamNjLY0IDYVhHJg   \n",
       "6  6AxgBCNX_PNTOxmbRSwcKQ  r3zeYsv1XFBRA4dJpL78cw  gmjsEdUsKpj9Xxu6pdjH0g   \n",
       "7  _ZeMknuYdlQcUqng_Im3yg  yfFzsLmaWF2d4Sr0UNbBgg  LHSTtnW3YHCeUkRDGyJOyw   \n",
       "8  ZKvDG2sBvHVdF5oBNUOpAQ  wSTuiTk-sKNdcFyprzZAjg  B5XSoSG3SfvQGtKEGQ1tSQ   \n",
       "9  pUycOfUwM8vqX7KjRRhUEA  59MxRhNVhU9MYndMkz0wtw  gebiRewfieSdtt17PTW6Zg   \n",
       "\n",
       "   stars  useful  funny  cool  \\\n",
       "0      3       0      0     0   \n",
       "1      5       1      0     1   \n",
       "2      3       0      0     0   \n",
       "3      5       1      0     1   \n",
       "4      4       1      0     1   \n",
       "5      1       1      2     1   \n",
       "6      5       0      2     0   \n",
       "7      5       2      0     0   \n",
       "8      3       1      1     0   \n",
       "9      3       0      0     0   \n",
       "\n",
       "                                                text                date  \n",
       "0  If you decide to eat here, just be aware it is... 2018-07-07 22:09:11  \n",
       "1  I've taken a lot of spin classes over the year... 2012-01-03 15:28:18  \n",
       "2  Family diner. Had the buffet. Eclectic assortm... 2014-02-05 20:30:30  \n",
       "3  Wow!  Yummy, different,  delicious.   Our favo... 2015-01-04 00:01:03  \n",
       "4  Cute interior and owner (?) gave us tour of up... 2017-01-14 20:54:15  \n",
       "5  I am a long term frequent customer of this est... 2015-09-23 23:10:31  \n",
       "6  Loved this tour! I grabbed a groupon and the p... 2015-01-03 23:21:18  \n",
       "7  Amazingly amazing wings and homemade bleu chee... 2015-08-07 02:29:16  \n",
       "8  This easter instead of going to Lopez Lake we ... 2016-03-30 22:46:33  \n",
       "9  Had a party of 6 here for hibachi. Our waitres... 2016-07-25 07:31:06  "
      ]
     },
     "execution_count": 10,
     "metadata": {},
     "output_type": "execute_result"
    }
   ],
   "source": [
    "subset.head(10)"
   ]
  },
  {
   "cell_type": "code",
   "execution_count": 11,
   "metadata": {},
   "outputs": [],
   "source": [
    "sortedSubset = subset.sort_values(by=['business_id'])\n",
    "x = subset['text']"
   ]
  },
  {
   "cell_type": "code",
   "execution_count": 12,
   "metadata": {},
   "outputs": [],
   "source": [
    "# make list of review text\n",
    "reviewText = []\n",
    "for index in enumerate(x):\n",
    "    reviewText.append(index[1])"
   ]
  },
  {
   "cell_type": "code",
   "execution_count": 13,
   "metadata": {},
   "outputs": [
    {
     "name": "stdout",
     "output_type": "stream",
     "text": [
      "10000\n"
     ]
    }
   ],
   "source": [
    "print(len(reviewText))"
   ]
  },
  {
   "cell_type": "code",
   "execution_count": 14,
   "metadata": {},
   "outputs": [],
   "source": [
    "# reviews sorted by business_id\n",
    "# loop through reviews\n",
    "# combine the text of the reviews\n",
    "# remove stop words\n",
    "# count phrases\n",
    "# save most common phrases top 100?\n",
    "\n",
    "# then filter the common phrases and mark each as a positive or negative phrase\n",
    "\n",
    "# finally loop through the reviews with the phrases list\n",
    "# group reviews by restaurant\n",
    "# get most common phrases\n",
    "# filter out phrases by the list made\n",
    "# save a list of pros and cons by business_id\n"
   ]
  },
  {
   "cell_type": "code",
   "execution_count": 15,
   "metadata": {},
   "outputs": [],
   "source": [
    "import nltk\n",
    "from nltk.corpus import stopwords"
   ]
  },
  {
   "cell_type": "code",
   "execution_count": 16,
   "metadata": {
    "scrolled": true
   },
   "outputs": [
    {
     "name": "stdout",
     "output_type": "stream",
     "text": [
      "['i', 'me', 'my', 'myself', 'we', 'our', 'ours', 'ourselves', 'you', \"you're\", \"you've\", \"you'll\", \"you'd\", 'your', 'yours', 'yourself', 'yourselves', 'he', 'him', 'his', 'himself', 'she', \"she's\", 'her', 'hers', 'herself', 'it', \"it's\", 'its', 'itself', 'they', 'them', 'their', 'theirs', 'themselves', 'what', 'which', 'who', 'whom', 'this', 'that', \"that'll\", 'these', 'those', 'am', 'is', 'are', 'was', 'were', 'be', 'been', 'being', 'have', 'has', 'had', 'having', 'do', 'does', 'did', 'doing', 'a', 'an', 'the', 'and', 'but', 'if', 'or', 'because', 'as', 'until', 'while', 'of', 'at', 'by', 'for', 'with', 'about', 'between', 'into', 'through', 'during', 'before', 'after', 'above', 'below', 'to', 'from', 'up', 'down', 'again', 'further', 'then', 'once', 'here', 'there', 'when', 'where', 'why', 'how', 'each', 'other', 'some', 'such', 'own', 'same', 'so', 'than', 'too', 'very', 's', 't', 'will', 'just', 'don', 'now', 'd', 'll', 'm', 'o', 're', 've', 'y', 'ain', 'ma', 'mightn', \"mightn't\", 'mustn', \"mustn't\", 'needn', \"needn't\", 'shan', \"shan't\"]\n"
     ]
    }
   ],
   "source": [
    "#nltk.download('stopwords')\n",
    "print(stopwords.words('english'))"
   ]
  },
  {
   "cell_type": "markdown",
   "metadata": {},
   "source": [
    "Following function is inspired by:\n",
    "https://dev.to/mattschwartz/quickly-find-common-phrases-in-a-large-list-of-strings-9in"
   ]
  },
  {
   "cell_type": "code",
   "execution_count": 17,
   "metadata": {},
   "outputs": [],
   "source": [
    "stopwords = stopwords.words('english')"
   ]
  },
  {
   "cell_type": "code",
   "execution_count": 18,
   "metadata": {},
   "outputs": [],
   "source": [
    "import re\n",
    "\n",
    "def get_common_phrases(texts, maximum_length=3, minimum_repeat=2) -> dict:\n",
    "    phrases = {}\n",
    "    \n",
    "    for text in texts:\n",
    "        # clean text\n",
    "        text = re.sub(r'[.!?,:;/\\-\\s]',' ', text)\n",
    "        text = re.sub(r'[\\\\|@#$&~%\\(\\)*\\\"]', '', text)\n",
    "        \n",
    "        words = text.split(' ')\n",
    "        # filter stopwords\n",
    "        words = [w for w in words if len(w) and w.lower() not in stopwords]\n",
    "        length = len(words)\n",
    "        \n",
    "        # phrases can only be maximum_length words long\n",
    "        size = length if length <= maximum_length else maximum_length\n",
    "        while size > 0:\n",
    "            pos = 0\n",
    "            # walk over sets of words\n",
    "            while pos + size <= length:\n",
    "                phrase = words[pos:pos+size]\n",
    "                phrase = tuple(w.lower() for w in phrase)\n",
    "                if phrase in phrases:\n",
    "                    phrases[phrase] += 1\n",
    "                else:\n",
    "                    phrases[phrase] = 1\n",
    "                pos += 1\n",
    "            size -= 1\n",
    "    # remove phrases that are less than the length set by minimum_repeat\n",
    "    phrases = {k: v for k, v in phrases.items() if v >= minimum_repeat}\n",
    "    print(\"Now finding longest phrases\")\n",
    "    longest_phrases = {}\n",
    "    keys = list(phrases.keys())\n",
    "    keys.sort(key=len, reverse=True)\n",
    "    for phrase in keys:\n",
    "        found = False\n",
    "        for l_phrase in longest_phrases:\n",
    "            intersection = set(l_phrase).intersection(phrase)\n",
    "            if len(intersection) == len(phrase):\n",
    "                difference = (phrases[phrase] - longest_phrases[l_phrase]) / longest_phrases[l_phrase]\n",
    "                if difference < 0.25:\n",
    "                    found = True\n",
    "                    break\n",
    "        if not found:\n",
    "            longest_phrases[phrase] = phrases[phrase]\n",
    "    \n",
    "    return longest_phrases\n",
    "    "
   ]
  },
  {
   "cell_type": "markdown",
   "metadata": {},
   "source": [
    "## Process for creating a custom filter for relevant phrases"
   ]
  },
  {
   "cell_type": "code",
   "execution_count": 15,
   "metadata": {},
   "outputs": [
    {
     "name": "stdout",
     "output_type": "stream",
     "text": [
      "Now finding longest phrases\n"
     ]
    }
   ],
   "source": [
    "common_phrases = get_common_phrases(reviewText)"
   ]
  },
  {
   "cell_type": "code",
   "execution_count": 16,
   "metadata": {},
   "outputs": [],
   "source": [
    "keys = list(common_phrases.keys())\n",
    "values = list(common_phrases.values())\n",
    "\n",
    "#print(keys)"
   ]
  },
  {
   "cell_type": "code",
   "execution_count": 17,
   "metadata": {},
   "outputs": [],
   "source": [
    "import numpy as np\n",
    "sorted_value_index = np.argsort(values)\n",
    "sorted_value_index_desc= sorted_value_index[::-1]\n",
    "sortedPhrases = {keys[i]: values[i] for i in sorted_value_index_desc}"
   ]
  },
  {
   "cell_type": "code",
   "execution_count": 18,
   "metadata": {},
   "outputs": [],
   "source": [
    "#print(sortedPhrases)"
   ]
  },
  {
   "cell_type": "code",
   "execution_count": null,
   "metadata": {
    "scrolled": true
   },
   "outputs": [],
   "source": [
    "outputList = []\n",
    "for key in sortedPhrases:\n",
    "    txt = str(key)\n",
    "    txt = txt.replace(\"(\", \"\").replace(\")\",\"\").replace(\"'\",\"\").replace(\",\",\"\")\n",
    "    print(txt)\n",
    "    outputList.append(txt)"
   ]
  },
  {
   "cell_type": "code",
   "execution_count": null,
   "metadata": {},
   "outputs": [],
   "source": [
    "import os.path\n",
    "save_path = 'C:/Users/DTLSW/Desktop/Yelp Dataset/output'\n",
    "name_of_file = 'commonPhrases.txt'\n",
    "complete_path = os.path.join(save_path, name_of_file)\n",
    "with open(complete_path, 'w') as f:\n",
    "    for word in outputList:\n",
    "        f.write(f\"{word}\\n\")"
   ]
  },
  {
   "cell_type": "markdown",
   "metadata": {},
   "source": [
    "## Process for finding pros and cons"
   ]
  },
  {
   "cell_type": "code",
   "execution_count": 180,
   "metadata": {},
   "outputs": [],
   "source": [
    "# read filter list\n",
    "filterFile = 'C:/Users/DTLSW/Desktop\\Yelp Dataset/output/combinePhrases.txt'\n",
    "mappedFile = 'C:/Users/DTLSW/Desktop\\Yelp Dataset/output/uniqueProsandCons.txt'\n",
    "mapPhrases = {}\n",
    "with open(filterFile) as file:\n",
    "    for line in file:\n",
    "        x = line.split(',')\n",
    "        mapPhrases[x[0]] = x[1].strip('\\n')"
   ]
  },
  {
   "cell_type": "code",
   "execution_count": 181,
   "metadata": {},
   "outputs": [],
   "source": [
    "mapValue = {}\n",
    "with open (mappedFile) as file:\n",
    "    for line in file:\n",
    "        x = line.split(',')\n",
    "        mapValue[x[0]] = x[1].strip('\\n')"
   ]
  },
  {
   "cell_type": "code",
   "execution_count": 30,
   "metadata": {},
   "outputs": [
    {
     "name": "stdout",
     "output_type": "stream",
     "text": [
      "Collecting pypandoc\n",
      "  Using cached pypandoc-1.12-py3-none-any.whl (20 kB)\n",
      "Installing collected packages: pypandoc\n",
      "Successfully installed pypandoc-1.12\n",
      "Collecting pyspark\n",
      "  Using cached pyspark-3.5.0.tar.gz (316.9 MB)\n",
      "Collecting py4j==0.10.9.7\n",
      "  Using cached py4j-0.10.9.7-py2.py3-none-any.whl (200 kB)\n",
      "Building wheels for collected packages: pyspark\n",
      "  Building wheel for pyspark (setup.py): started\n",
      "  Building wheel for pyspark (setup.py): finished with status 'done'\n",
      "  Created wheel for pyspark: filename=pyspark-3.5.0-py2.py3-none-any.whl size=317425372 sha256=049e4a18de74aa2e25643c86040edcdfbea75e261b50d3c0ccce71b24469d32d\n",
      "  Stored in directory: c:\\users\\dtlsw\\appdata\\local\\pip\\cache\\wheels\\a6\\ce\\f9\\17d82c92f044018df2fe30af63ac043447720d5b2cee39b40f\n",
      "Successfully built pyspark\n",
      "Installing collected packages: py4j, pyspark\n",
      "Successfully installed py4j-0.10.9.7 pyspark-3.5.0\n"
     ]
    }
   ],
   "source": [
    "#!pip install pypandoc\n",
    "#!pip install pyspark"
   ]
  },
  {
   "cell_type": "code",
   "execution_count": 31,
   "metadata": {},
   "outputs": [
    {
     "name": "stdout",
     "output_type": "stream",
     "text": [
      "Collecting findspark\n",
      "  Downloading findspark-2.0.1-py2.py3-none-any.whl (4.4 kB)\n",
      "Installing collected packages: findspark\n",
      "Successfully installed findspark-2.0.1\n"
     ]
    }
   ],
   "source": [
    "#!pip install findspark"
   ]
  },
  {
   "cell_type": "code",
   "execution_count": 22,
   "metadata": {},
   "outputs": [],
   "source": [
    "from pyspark.sql import SparkSession"
   ]
  },
  {
   "cell_type": "code",
   "execution_count": 23,
   "metadata": {},
   "outputs": [],
   "source": [
    "# Create Spark Session\n",
    "spark = SparkSession.builder.master(\"local\").appName(\"findProsAndCons\").getOrCreate()"
   ]
  },
  {
   "cell_type": "code",
   "execution_count": 24,
   "metadata": {},
   "outputs": [],
   "source": [
    "# group reviews by business_id\n",
    "reviewKeys = sortedSubset['business_id']\n",
    "reviewValues = sortedSubset['text']\n"
   ]
  },
  {
   "cell_type": "code",
   "execution_count": null,
   "metadata": {},
   "outputs": [],
   "source": [
    "#pair busines_id with text\n",
    "reviewPairs = []\n",
    "for idx, key in enumerate(reviewKeys):\n",
    "    print(key)\n",
    "    reviewPairs.append((reviewKeys[idx], reviewValues[idx]))"
   ]
  },
  {
   "cell_type": "code",
   "execution_count": 28,
   "metadata": {},
   "outputs": [],
   "source": [
    "# Distribute the data\n",
    "reviews_rdd = spark.sparkContext.parallelize(reviewPairs, numSlices=8)\n"
   ]
  },
  {
   "cell_type": "code",
   "execution_count": 29,
   "metadata": {},
   "outputs": [
    {
     "data": {
      "text/plain": [
       "[('XQfwVwDr-v0ZS3_CbbE5Xw',\n",
       "  \"If you decide to eat here, just be aware it is going to take about 2 hours from beginning to end. We have tried it multiple times, because I want to like it! I have been to it's other locations in NJ and never had a bad experience. \\n\\nThe food is good, but it takes a very long time to come out. The waitstaff is very young, but usually pleasant. We have just had too many experiences where we spent way too long waiting. We usually opt for another diner or restaurant on the weekends, in order to be done quicker.\"),\n",
       " ('7ATYjTIgM3jUlt4UM3IypQ',\n",
       "  \"I've taken a lot of spin classes over the years, and nothing compares to the classes at Body Cycle. From the nice, clean space and amazing bikes, to the welcoming and motivating instructors, every class is a top notch work out.\\n\\nFor anyone who struggles to fit workouts in, the online scheduling system makes it easy to plan ahead (and there's no need to line up way in advanced like many gyms make you do).\\n\\nThere is no way I can write this review without giving Russell, the owner of Body Cycle, a shout out. Russell's passion for fitness and cycling is so evident, as is his desire for all of his clients to succeed. He is always dropping in to classes to check in/provide encouragement, and is open to ideas and recommendations from anyone. Russell always wears a smile on his face, even when he's kicking your butt in class!\"),\n",
       " ('YjUWPpI6HXG530lwP-fb2A',\n",
       "  'Family diner. Had the buffet. Eclectic assortment: a large chicken leg, fried jalapeño, tamale, two rolled grape leaves, fresh melon. All good. Lots of Mexican choices there. Also has a menu with breakfast served all day long. Friendly, attentive staff. Good place for a casual relaxed meal with no expectations. Next to the Clarion Hotel.'),\n",
       " ('kxX2SOes4o-D3ZQBkiMRfA',\n",
       "  \"Wow!  Yummy, different,  delicious.   Our favorite is the lamb curry and korma.  With 10 different kinds of naan!!!  Don't let the outside deter you (because we almost changed our minds)...go in and try something new!   You'll be glad you did!\"),\n",
       " ('e4Vwtrqf-wpJfwesgvdgxQ',\n",
       "  \"Cute interior and owner (?) gave us tour of upcoming patio/rooftop area which will be great on beautiful days like today. Cheese curds were very good and very filling. Really like that sandwiches come w salad, esp after eating too many curds! Had the onion, gruyere, tomato sandwich. Wasn't too much cheese which I liked. Needed something else...pepper jelly maybe. Would like to see more menu options added such as salads w fun cheeses. Lots of beer and wine as well as limited cocktails. Next time I will try one of the draft wines.\"),\n",
       " ('04UD14gamNjLY0IDYVhHJg',\n",
       "  \"I am a long term frequent customer of this establishment. I just went in to order take out (3 apps) and was told they're too busy to do it. Really? The place is maybe half full at best. Does your dick reach your ass? Yes? Go fuck yourself! I'm a frequent customer AND great tipper. Glad that Kanella just opened. NEVER going back to dmitris!\"),\n",
       " ('gmjsEdUsKpj9Xxu6pdjH0g',\n",
       "  \"Loved this tour! I grabbed a groupon and the price was great. It was the perfect way to explore New Orleans for someone who'd never been there before and didn't know a lot about the history of the city. Our tour guide had tons of interesting tidbits about the city, and I really enjoyed the experience. Highly recommended tour. I actually thought we were just going to tour through the cemetery, but she took us around the French Quarter for the first hour, and the cemetery for the second half of the tour. You'll meet up in front of a grocery store (seems strange at first, but it's not terribly hard to find, and it'll give you a chance to get some water), and you'll stop at a visitor center part way through the tour for a bathroom break if needed. This tour was one of my favorite parts of my trip!\"),\n",
       " ('LHSTtnW3YHCeUkRDGyJOyw',\n",
       "  'Amazingly amazing wings and homemade bleu cheese. Had the ribeye: tender, perfectly prepared, delicious. Nice selection of craft beers. Would DEFINITELY recommend checking out this hidden gem.'),\n",
       " ('B5XSoSG3SfvQGtKEGQ1tSQ',\n",
       "  \"This easter instead of going to Lopez Lake we went to Los Padres National Forest which is really pretty but if you go to white rock the staff needs to cut down all the dead grass that invades the rock and the water. I would wish the staff would also clean or get rid of the dead grass that's also living by the water. The water is really green and dirty. Los padres national forest staff need to work hard to maintain this forest looking pretty and not like a dumpster. Even Cachuma lake looks like they put a bit more effort.\"),\n",
       " ('gebiRewfieSdtt17PTW6Zg',\n",
       "  \"Had a party of 6 here for hibachi. Our waitress brought our separate sushi orders on one plate so we couldn't really tell who's was who's and forgot several items on an order. I understand making mistakes but the restaraunt was really quiet so we were kind of surprised. Usually hibachi is a fun lively experience and our  cook  said maybe three words, but he cooked very well his name was Francisco. Service was fishy, food was pretty good, and im hoping it was just an off night here. But for the money I wouldn't go back.\")]"
      ]
     },
     "execution_count": 29,
     "metadata": {},
     "output_type": "execute_result"
    }
   ],
   "source": [
    "reviews_rdd.take(10)"
   ]
  },
  {
   "cell_type": "code",
   "execution_count": 30,
   "metadata": {},
   "outputs": [],
   "source": [
    "# Group pairs by the key\n",
    "groupedPairs = reviews_rdd.groupByKey()"
   ]
  },
  {
   "cell_type": "code",
   "execution_count": 31,
   "metadata": {},
   "outputs": [],
   "source": [
    "groupedPairs = groupedPairs.map(lambda x: (x[0], list(x[1])))"
   ]
  },
  {
   "cell_type": "code",
   "execution_count": null,
   "metadata": {},
   "outputs": [],
   "source": [
    "groupedPairs.take(5)"
   ]
  },
  {
   "cell_type": "code",
   "execution_count": 188,
   "metadata": {},
   "outputs": [],
   "source": [
    "def analyzeBusiness(businessId, texts):\n",
    "    # restaurant[0] = business_id\n",
    "    # restaurant[1] = text\n",
    "    maximum_length=3\n",
    "    minimum_repeat=2\n",
    "    \n",
    "    phrases = {}\n",
    "    \n",
    "    for text in texts:\n",
    "        # clean text\n",
    "        text = re.sub(r'[.!?,:;/\\-\\s]',' ', text)\n",
    "        text = re.sub(r'[\\\\|@#$&~%\\(\\)*\\\"]', '', text)\n",
    "        \n",
    "        words = text.split(' ')\n",
    "        # filter stopwords\n",
    "        words = [w for w in words if len(w) and w.lower() not in stopwords]\n",
    "        length = len(words)\n",
    "        \n",
    "        # phrases can only be maximum_length words long\n",
    "        size = length if length <= maximum_length else maximum_length\n",
    "        while size > 0:\n",
    "            pos = 0\n",
    "            # walk over sets of words\n",
    "            while pos + size <= length:\n",
    "                phrase = words[pos:pos+size]\n",
    "                phrase = tuple(w.lower() for w in phrase)\n",
    "                if phrase in phrases:\n",
    "                    phrases[phrase] += 1\n",
    "                else:\n",
    "                    phrases[phrase] = 1\n",
    "                pos += 1\n",
    "            size -= 1\n",
    "    # remove phrases that are less than the length set by minimum_repeat\n",
    "    phrases = {k: v for k, v in phrases.items() if v >= minimum_repeat}\n",
    "    longest_phrases = {}\n",
    "    keys = list(phrases.keys())\n",
    "    keys.sort(key=len, reverse=True)\n",
    "    for phrase in keys:\n",
    "        found = False\n",
    "        for l_phrase in longest_phrases:\n",
    "            intersection = set(l_phrase).intersection(phrase)\n",
    "            if len(intersection) == len(phrase):\n",
    "                print(phrases[phrase])\n",
    "                print(longest_phrases[l_phrase])\n",
    "                difference = float(phrases[phrase] - len(longest_phrases[l_phrase])) / len(longest_phrases[l_phrase])\n",
    "                if difference < 0.25:\n",
    "                    found = True\n",
    "                    break\n",
    "        if not found:\n",
    "            currentPhrase = ' '.join(phrase)\n",
    "            if currentPhrase in mapPhrases:\n",
    "                if currentPhrase not in longest_phrases:\n",
    "                    longest_phrases[mapPhrases[currentPhrase]] = mapValue[mapPhrases[currentPhrase]]\n",
    "    returnObj = dict()\n",
    "    returnObj['business_id'] = businessId\n",
    "    returnObj['pos'] = []\n",
    "    returnObj['neg'] = []\n",
    "    for phrase in longest_phrases:\n",
    "        if longest_phrases[phrase] == 'pos':\n",
    "            returnObj['pos'].append(phrase)\n",
    "        else:\n",
    "            returnObj['neg'].append(phrase)\n",
    "    return returnObj"
   ]
  },
  {
   "cell_type": "code",
   "execution_count": 134,
   "metadata": {},
   "outputs": [
    {
     "name": "stdout",
     "output_type": "stream",
     "text": [
      "Now finding longest phrases\n"
     ]
    }
   ],
   "source": [
    "example_phrases = analyzeBusiness(example[4][0],example[4][1])"
   ]
  },
  {
   "cell_type": "code",
   "execution_count": 135,
   "metadata": {},
   "outputs": [
    {
     "name": "stdout",
     "output_type": "stream",
     "text": [
      "{'business_id': 'ltBBYdNzkeKdCNPDAsxwAA', 'pos': ['great ambiance', 'great drinks', 'great service', 'great food', 'friendly staff', 'great atmosphere'], 'neg': ['long wait times']}\n"
     ]
    }
   ],
   "source": [
    "print(example_phrases)"
   ]
  },
  {
   "cell_type": "code",
   "execution_count": 145,
   "metadata": {},
   "outputs": [],
   "source": [
    "findProsAndCons = groupedPairs.map(lambda x: analyzeBusiness(x[0],x[1]))\n",
    "\n",
    "# final output\n",
    "# {\n",
    "#    business_id: string\n",
    "#    pros: []\n",
    "#    cons: []\n",
    "# }"
   ]
  },
  {
   "cell_type": "code",
   "execution_count": 154,
   "metadata": {},
   "outputs": [
    {
     "data": {
      "text/plain": [
       "[{'business_id': 'gmjsEdUsKpj9Xxu6pdjH0g',\n",
       "  'pos': ['helpful staff'],\n",
       "  'neg': []},\n",
       " {'business_id': 'EQ-TZ2eeD_E0BHuvoaeG5Q',\n",
       "  'pos': ['great service', 'friendly staff', 'great food'],\n",
       "  'neg': ['long wait times', 'inconsistent']},\n",
       " {'business_id': 'vC2qm1y3Au5czBtbhc-DNw', 'pos': [], 'neg': []},\n",
       " {'business_id': 'MWmXGQ98KbRo3vsS5nZhMA', 'pos': [], 'neg': []},\n",
       " {'business_id': 'ltBBYdNzkeKdCNPDAsxwAA',\n",
       "  'pos': ['great ambiance',\n",
       "   'great drinks',\n",
       "   'great service',\n",
       "   'great food',\n",
       "   'friendly staff',\n",
       "   'great atmosphere'],\n",
       "  'neg': ['long wait times']}]"
      ]
     },
     "execution_count": 154,
     "metadata": {},
     "output_type": "execute_result"
    }
   ],
   "source": [
    "findProsAndCons.take(5)"
   ]
  },
  {
   "cell_type": "code",
   "execution_count": null,
   "metadata": {},
   "outputs": [],
   "source": [
    "examples = groupedPairs.take(10000)\n",
    "finalOutput = []\n",
    "for idx, example in enumerate(examples):\n",
    "    print(idx)\n",
    "    analyzeBusiness(example[0],example[1])\n",
    "    finalOutput.append(analyzeBusiness(example[0],example[1]))"
   ]
  },
  {
   "cell_type": "code",
   "execution_count": 166,
   "metadata": {},
   "outputs": [
    {
     "name": "stdout",
     "output_type": "stream",
     "text": [
      "oQ5CPRt0R3AzFvcjNOqB1w\n",
      "[\"Honestly the food doesn't knock my socks off but other people seem to love this place. I go because my husband likes it as for me I'd rather go to a different BBQ spot. I guess it also depends on what you order.\", \"The Tuck Special. So good I would drive all the way back out to Nashville from TX just to have it again. It's a mix of strange ingredients- brisket, egg, pimento cheese but combined they are an amazing flavor combination. My husband didn't care for the BBQ sauce on the table, but meat was pretty good. I can see how this place gets crowded, but if you have patience and look up the menu ahead of time, it should be manageable.\", 'I ordered the Pulled Pork Nachos.  They were delicious!  Instead of tortilla chips they are served with potato chips...perfect to share with a Beer or Bloody Mary', 'First time visit the other day, amazing!!!! Best hot chicken anywhere!!! Will def be a must stop every time we come to Nashville!!!', \"We stopped here on our way through town and want sure what to expect but we were pleasantly surprised. The service sucked and the staff was rude but the food made up that in the end. We had some pulled pork which was more chopped then pulled, brisket tacos which were define, and pulled chicken which was moist. The sides were pretty good too but nothing to write home about. There were five of us and our bill was close to $60 and one meal was a kids meal. I  really only have two complaints: One, they didn't have ribs for lunch and two, the bathrooms were filthy.\", 'We were visiting Nashville for business and everyone raved about this place so we had to try it. This is an average BBQ joint. The service and food were good but nothing like the hype.', \"Great lunch!!  We saw all the people eating here so we decided it must be a good place to go!! The food was amazing !! We took other's advice and tried it all!! Mac and cheese was great so was the banana pudding.  I had the Chilean sandwich and would skip the bun and the slaw next time. The French fries were amazing !!\", \"Miami doesn't have good BBQ spots!  I'm typically not a BBQ lover... However, this place was amazing!!  Best brisket I've had in a long time!!  Order it lean ;)\", \"Best BBQ in Nashville!  Food is consistently amazing & all of their locations always a really fun, relaxed atmosphere. I recommend Edley's to all of my family and friends who come to visit.\", \"Let me say right off, I'm not a bbq fan and by that I mean pork bbq. So what did I order, the chicken sandwich, of course. The buns looked yummy but I passed on them and ate the chicken and slaw from the sandwich with what I guess was their white bbq sauce (looked light orange). The chicken was on the rare side and the slaw was meh. I ordred the grit casserole and green beans for my sides. The green beans were fresh and the grits were yummy. My friends ordered the special of the day - rib sandwich and they raved about it along with the baked beans and chilled bean salad. The atmosphere is good and I loved the deck for outdoor dining. They had a great selection of sides and I'd be happy just eating them next time. I'd give it another try even though I wasn't wowed.\", 'First, pork was super dry last night. Surprising since it was a busy, holiday weekend so you\\'d think they be turning out lots of fresh pork instead of a product that tasted like it had been sitting under a dry heat lamp for hours. However, wings were pretty darn tasty. A touch under done but worth coming back for. Ribs and pork are dead to me though.\\n\\nThe biggest disappointment about our recent visit was the way the \"wait in line, order, get your number and sit down\" process soooo doesn\\'t work at this place. To be fair, it\\'s not Mr. Edley\\'s fault that the douchebag hipsters and self absorbed yuppie parents don\\'t have enough common sense or courtesy to not sit down before they\\'ve ordered and obtained a number but seriously, PUT UP SOME SIGNS or have the bus people and manager politely ask people who have rudely tied up a table (or 3) while their party waits to get up. When I suggested to the cashier that they might have an issue this past Saturday, she said they \"don\\'t allow that\" but then nobody told the family of 8 who committed this major foul to get up while we looked around for a place to sit (after ordering, of course). \\n\\nMy thoughts for Edley\\'s 1) your food quality is slipping 2) your customers apparently need to be taught that sitting down before ordering throws the whole balance of your system off--find a way to tell them.\\n\\nP.S. If you\\'re a party of 10 and looking to sit together on their patio on a busy night, go somewhere else unless you\\'re prepared to respect the system and try your luck for a table...AFTER YOU\\'VE ORDERED!', \"Well, I hope I don't offend the BBQ police with this review....but I didn't order ANY BBQ here....what I did order was, possibly, the best hot chicken sandwich I have ever had....no small feat in a town that DOMINATES the world of hot chicken.\\n\\nI was convinced to try out Edley's when a friend in town billed it as 'unique and gourmet BBQ'....OK, I'm not sure exactly what that means, but what the hell, I'll give it a whirl!  I like good BBQ, but I LOVE good Nashville Hot Chicken, and that just jumped out at me on the menu.  So, I throw in my order for a hot chicken sandwich....I was mildly alarmed when I was told that it only came in one level of hotness and they couldn't give me any hot sauce on the side (they did offer wing sauce).  Despite some mild reservations upon this discovery (what kind of REAL hot chicken place doesn't offer some type of 'this will kill you from the inside out' level of spice?), I pushed ahead with the order.  Damn, I AM a brave man.\\n\\nWe sit down and the order comes out just a few minutes later.  Here we go...after de-pickling it, I dig in.  First thing I notice is the breading: not as thick as your 'standard' hot chicken, but full of flavor.  I actually liked it better....seems lighter (but I know it's not more healthy, I'm not kidding myself on that).  The chicken was really tender and cooked perfectly.  The spice what a LITTLE on the light side, but still had enough heat for you to know it was there.  \\n\\nAnyway, I am a HUGE fan of this place....great food, full bar, nice set up inside, and a great patio as well.  Throw a great location on top of that, and what else could you ask for?\", \"Only came here since it was featured in US Weekly magazine as one of Taylor Swift's favorite places. This place was terrible. We ordered the pulled pork platter with a side of mac n cheese and slaw and the half ribs platter with a side of potato salad. Our order was wrong, the food was burned, the slaw had way too much vinegar, and the ribs were rock hard. I don't recommend this place at all.\", \"The grits and mac and cheese were incredible. Hot chicken sandwich was pretty bad. The chicken was so over cooked and parts of it were inedible. Won't be back, there's better BBQ elsewhere.\", 'We ate here last night during the 6:00 pm rush. We shared an order of fried pickles and I had the pork tacos. The fried pickles were decent and the tacos were excellent! Good flavor and great texture. I\\'ll definitely be having those again! Don\\'t bother deciding on your sides until you get up to the counter and can see the board because they do not have everything on the menu every day. The mac and cheese was so good! It wasn\\'t what I expected from a BBQ place! The \"baked beans\" we\\'re also good but they are really mixed beans and not at all like the BBQ baked beans you get at other places. Still good, just not baked. \\nThey also had Abita Strawberry and the Blackforest Kolsch. Excellent bar selection!!\\nI\\'m docking them a star because of the system of ordering at the counter and then taking the plastic number to a table. This system works in theory, and in practice at other places, but you HAVE to keep people from \"saving tables\" when they have yet to order. I get it if you have a group of 10 but for normal sized tables, it throws the whole system off! The line was long last night but the food comes out fast so tables turn over quickly. By the time we ordered there were no open tables. There were around 8 tables taken up by people who were still 20 minutes from ordering. That throws the whole system off! Let people who have already ordered eat. Another table will open up for you by the time you order!\\nThis can easily be solved by posting a sign and asking the servers to enforce it. \\nLuckily there were two spots open at the bar. \\nOn a side note, the bartender was awesome: fast, attentive, and knowledgeable. I may just sit there in the first place next time!', \"Literally the best meal I have ever eaten. I was in Nashville for a week for work and I went to Edley's three times and got the pulled pork platter every time. It's life changing. My boyfriend got the hot chicken plate every time and said that was also the best he'd ever had. This place is unreal. It's also not that expensive - only about $10 /platter and it comes with two sides and cornbread... and if you don't like cornbread you can swap it for another side. I did not love the mac and cheese but I pretty much always hate baked mac. The banana pudding is BOMB and the mashed potatoes are great too. I really don't think you could go wrong here.\", 'Come hungry. The food is just perfect. Fast, warm and well prepared. Service with a smile in a comfortable atmosphere.  Great music but not too loud. I had the pulled pork tacos and nachos while my family stuck with. More standard BBQ options in pulled pork sandwiches. In the end we left full and happy. They were busy but we had no trouble finding a large table. This is a must eat if your visiting the Nashville area.', 'I hadn\\'t really planned on stopping at Edley\\'s because we have some pretty okay BBQ in my city and it\\'s just not really my jam. (Hot chicken over BBQ any day of the week for me) However, we wanted a \"snack\" so we stopped in around lunchtime right before the lunch rush. We got 2 brisket tacos and the daily feature, fried green tomatoes. The food took awhile to get to us, but when it did... holy crap. It was SO GOOD! The tacos were amazing, stuffed full of juicy shredded brisket, pico de gallo, beans, fried jalapenos... maybe more stuff but they were so flavorful and amazing I could barely stand it. And the fried green tomatoes were delicious as well! It ended up being way more food than we wanted for a small snack but we ate every single bite. Well worth it! It got super busy in there and it\\'s definitely in one of the most touristy areas but they have another location you can check out.', \"Honestly, didn't live up to the hype. Food was definitely good but was not BBQ that blew me out of the water. And the corn bread was SOO DRY. Disappointing. Hoping it was just a bad night but seeing as I was visiting Nashville for the first time, I probably won't be going back when I visit again.\", 'Last couple of visits food has been average at best. Food served on bare metal tray and luke warm. Mac and cheese tasty but cold. Sweet tea so sweet it leaves an after taste in your mouth. Pretty bummed as this was one of my favorite bbq places when visiting last school year.', \"This was the only BBQ I had while in Tennessee and it was great!\\n\\nI had the beef brisket, with a side of potato salad and Mac & cheese. The BBQ sauce was sweet and exactly what I enjoy. I wasn't extremely impressed with the sides, I thought the mac could have been better!\\n\\nI was bummed that the fried okra wasn't in season, but will return on my next visit to Nashville to try it out!\\n\\nThis was my first bushwhacker experience and I loved it! It's this crazy boozy frozen drink- think boozy chocolate milkshake but better.\", \"My girlfriend and I went to Edley's Bar-B-Que Today, 8/28/13, and it was phenomenal! It was a little crowded, but we didn't have to wait five minutes for a table. The restaurant is set up kind of like a high end fast food joint (although the food is MUCH better than your McDonalds.) You go to an order line in the front of the restaurant, place your order, and the food is then delivered to your table. The orders are each designated a number. Ours was 31. \\n\\nOverall, Edley's was great! the quality of food and service was superb. Not to mention, their bar-b-que sauce was unreal. I would highly recommend Edley's.\", \"Everything I had was amazing! We ordered brisket plate with corn bread, coleslaw, Mac and cheese and potato salad. I don't usually like potato salad but this was really good! Mac and cheese was good but could use some more spices. Brisket was tender and easy to eat.\", \"Cute location, there is a line, but pretty good food. Great location, but I was disappointed that when we arrived about 3:15, after being in line for about 15-20 minutes, we were informed that the ribs are only available at dinner time. Yes I rolled my eyes! But the cashier was very friendly and asked about how our trip was going so we decided to try out the pulled pork sandwich and several of their sides. Great food! Just disappointed I didn't get to try their ribs.\", \"Delicious and great prices! I had the brisket tacos, baked beans and mac n cheese. Pass on the mac and go for cornbread instead. The tacos were delicious, but if you want a bigger portion of the brisket, you'll have to be there around lunch. We went for dinner at 5 and they were nearly out of brisket. I had the oh honey! to drink and loved it. Nice ambience, no issue with service or waiting in line.\", \"Came to get lunch with some friends and man was this place packed. That's usually a good sign, but the room quickly became overcrowded with the line to order and the line to get drinks snaking throughout most of the room. We had two orders under one number at our table. ( you get a # and take a sign to display at your table. ) Well 2/3 of the people got their food within 10-15 min. One chicken BBQ sandwich plate and one pork. I was told that the amount of chicken in the sandwich was disappointing despite the yummy sauce.  The pork sandwich was on the dry side but ok. My nachos arrived around 40 minutes later only after reminding one of the runners twice I never received my food.  The nachos were okay. The pork BBQ was kinda dry but the sauces available were good. \\nI plan to try this place again soon but so far I am less than impressed. Parking can be an issue also of note.\"]\n"
     ]
    }
   ],
   "source": [
    "print(examples[13][0])\n",
    "print(examples[13][1])"
   ]
  },
  {
   "cell_type": "code",
   "execution_count": 174,
   "metadata": {},
   "outputs": [
    {
     "name": "stdout",
     "output_type": "stream",
     "text": [
      "Now finding longest phrases\n",
      "2\n",
      "pos\n"
     ]
    },
    {
     "data": {
      "text/plain": [
       "{'business_id': 'oQ5CPRt0R3AzFvcjNOqB1w',\n",
       " 'pos': ['great food', 'great location', 'great service', 'friendly staff'],\n",
       " 'neg': ['feels cramped', 'long wait times', 'inconsistent']}"
      ]
     },
     "execution_count": 174,
     "metadata": {},
     "output_type": "execute_result"
    }
   ],
   "source": [
    "analyzeBusiness(examples[13][0],examples[13][1])"
   ]
  },
  {
   "cell_type": "code",
   "execution_count": 190,
   "metadata": {},
   "outputs": [
    {
     "name": "stdout",
     "output_type": "stream",
     "text": [
      "{'business_id': 'gmjsEdUsKpj9Xxu6pdjH0g', 'pos': ['helpful staff'], 'neg': []}\n"
     ]
    }
   ],
   "source": [
    "print(finalOutput[0])"
   ]
  },
  {
   "cell_type": "code",
   "execution_count": 191,
   "metadata": {},
   "outputs": [],
   "source": [
    "import json"
   ]
  },
  {
   "cell_type": "code",
   "execution_count": 192,
   "metadata": {},
   "outputs": [],
   "source": [
    "output_save_path = 'C:/Users/DTLSW/Desktop/Yelp Dataset/output/finalOutput.json'\n",
    "with open(output_save_path, 'w') as f:\n",
    "    json.dump(finalOutput, f)"
   ]
  },
  {
   "cell_type": "code",
   "execution_count": 198,
   "metadata": {},
   "outputs": [],
   "source": [
    "output_save_path = 'C:/Users/DTLSW/Desktop/Yelp Dataset/output/reviewID.txt'\n",
    "with open(output_save_path, 'w') as f:\n",
    "    for word in reviewKeys:\n",
    "        f.write('\"' + f\"{word}\" + '\",')"
   ]
  },
  {
   "cell_type": "code",
   "execution_count": null,
   "metadata": {},
   "outputs": [],
   "source": []
  }
 ],
 "metadata": {
  "kernelspec": {
   "display_name": "py312",
   "language": "python",
   "name": "py312"
  },
  "language_info": {
   "codemirror_mode": {
    "name": "ipython",
    "version": 3
   },
   "file_extension": ".py",
   "mimetype": "text/x-python",
   "name": "python",
   "nbconvert_exporter": "python",
   "pygments_lexer": "ipython3",
   "version": "3.9.13"
  }
 },
 "nbformat": 4,
 "nbformat_minor": 4
}
